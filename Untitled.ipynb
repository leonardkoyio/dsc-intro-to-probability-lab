{
 "cells": [
  {
   "cell_type": "code",
   "execution_count": null,
   "metadata": {},
   "outputs": [],
   "source": [
    "def check_axioms(sample_space):\n",
    "    if  np.sum(sample_space) != 1:\n",
    "        print(\"Not quite!\")\n",
    "    else:\n",
    "        for sample in sample_space :\n",
    "            if sample< 0 or sample >1:\n",
    "        print(\"Not quite!\")\n",
    "        break;\n",
    "        print(\"We're good!\" )\n",
    "    None"
   ]
  },
  {
   "cell_type": "code",
   "execution_count": null,
   "metadata": {},
   "outputs": [],
   "source": [
    "def check_axioms(sample_space):\n",
    "    if  np.sum(sample_space) != 1:\n",
    "        \n",
    "        print(\"Not quite!\")\n",
    "    else:\n",
    "        for sample in sample_space :\n",
    "            if sample< 0 or sample >1:\n",
    "                print(\"Not quite!\")\n",
    "                break;\n",
    "        print(\"We're good!\" )\n",
    "    None"
   ]
  },
  {
   "cell_type": "code",
   "execution_count": null,
   "metadata": {},
   "outputs": [],
   "source": [
    "def check_axioms(sample_space):\n",
    "    if  np.sum(sample_space) != 1:\n",
    "        print(\"Not quite!\")\n",
    "    elif sample in sample_space < 1 or sample in sample_space >1:\n",
    "        print(\"Not quite!\")\n",
    "    else:\n",
    "        print(\"We're good!\")\n",
    "    None"
   ]
  }
 ],
 "metadata": {
  "kernelspec": {
   "display_name": "Python (learn-env)",
   "language": "python",
   "name": "learn-env"
  },
  "language_info": {
   "codemirror_mode": {
    "name": "ipython",
    "version": 3
   },
   "file_extension": ".py",
   "mimetype": "text/x-python",
   "name": "python",
   "nbconvert_exporter": "python",
   "pygments_lexer": "ipython3",
   "version": "3.8.5"
  }
 },
 "nbformat": 4,
 "nbformat_minor": 4
}
